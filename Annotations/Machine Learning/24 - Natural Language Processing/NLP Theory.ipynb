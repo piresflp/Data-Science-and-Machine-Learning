{
 "cells": [
  {
   "cell_type": "markdown",
   "metadata": {},
   "source": [
    "* A document represented as a vector of word counts is called a \"Bag of Words\".\n",
    "\n",
    "* **Term Frequency** - Importance of the term within that document.\n",
    "    * TF(d,t) = Number of occurrences of term t in document d.\n",
    "    \n",
    "* **Inverse Document Frequency** - Importance of the term in the corpus.\n",
    "    * IDF(t) = log(D/t) where\n",
    "    "
   ]
  }
 ],
 "metadata": {
  "kernelspec": {
   "display_name": "Python 3",
   "language": "python",
   "name": "python3"
  },
  "language_info": {
   "codemirror_mode": {
    "name": "ipython",
    "version": 3
   },
   "file_extension": ".py",
   "mimetype": "text/x-python",
   "name": "python",
   "nbconvert_exporter": "python",
   "pygments_lexer": "ipython3",
   "version": "3.8.5"
  }
 },
 "nbformat": 4,
 "nbformat_minor": 4
}
