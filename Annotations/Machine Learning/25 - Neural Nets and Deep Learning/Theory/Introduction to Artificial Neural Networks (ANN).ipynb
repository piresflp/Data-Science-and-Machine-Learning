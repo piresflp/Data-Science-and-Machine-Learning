{
 "cells": [
  {
   "cell_type": "markdown",
   "metadata": {},
   "source": [
    "* **Theory Topics**\n",
    "    * Perceptron Model to Neural Networks\n",
    "    * Activation Functions\n",
    "    * Cost Functions\n",
    "    * Feed Forward Networks\n",
    "    * BackPropagation\n",
    "    \n",
    "    \n",
    "    \n",
    "* **Coding Topics**\n",
    "    * TensorFlow 2.0 Keras Syntax\n",
    "    * ANN with Keras\n",
    "        * Regression\n",
    "        * Classification\n",
    "    * Exercises for Keras ANN\n",
    "    * Tensorboard Visualizations"
   ]
  },
  {
   "cell_type": "code",
   "execution_count": null,
   "metadata": {},
   "outputs": [],
   "source": []
  }
 ],
 "metadata": {
  "kernelspec": {
   "display_name": "Python 3",
   "language": "python",
   "name": "python3"
  },
  "language_info": {
   "codemirror_mode": {
    "name": "ipython",
    "version": 3
   },
   "file_extension": ".py",
   "mimetype": "text/x-python",
   "name": "python",
   "nbconvert_exporter": "python",
   "pygments_lexer": "ipython3",
   "version": "3.8.5"
  }
 },
 "nbformat": 4,
 "nbformat_minor": 4
}
