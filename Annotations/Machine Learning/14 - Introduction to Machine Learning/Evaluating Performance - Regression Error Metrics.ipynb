{
 "cells": [
  {
   "cell_type": "markdown",
   "metadata": {},
   "source": [
    "*  Regression is a task when a model attempts to predict continuous values (unlinke categorical values, which is classification)\n",
    "\n",
    "*  Let's discuss some of the most common evaluation metrics for regression:\n",
    "    * Mean Absolute Error\n",
    "    * Mean Squared Error\n",
    "    * Root Mean Square Error\n",
    "    \n",
    "### * Mean Absolute Error (MAE)\n",
    "*  This is the mean of the absolute value of errors.\n",
    "*  MAE won't punish large error however.\n",
    "\n",
    "### * Mean Squared Error (MSE)\n",
    "*  This is the mean of the squared errors.\n",
    "*  Larger errors are noted more then with MAE.\n",
    "\n",
    "### * Root Mean Square Error (RMSE)\n",
    "*  This is the root of the mean"
   ]
  },
  {
   "cell_type": "code",
   "execution_count": null,
   "metadata": {},
   "outputs": [],
   "source": []
  }
 ],
 "metadata": {
  "kernelspec": {
   "display_name": "Python 3",
   "language": "python",
   "name": "python3"
  },
  "language_info": {
   "codemirror_mode": {
    "name": "ipython",
    "version": 3
   },
   "file_extension": ".py",
   "mimetype": "text/x-python",
   "name": "python",
   "nbconvert_exporter": "python",
   "pygments_lexer": "ipython3",
   "version": "3.8.5"
  }
 },
 "nbformat": 4,
 "nbformat_minor": 4
}
