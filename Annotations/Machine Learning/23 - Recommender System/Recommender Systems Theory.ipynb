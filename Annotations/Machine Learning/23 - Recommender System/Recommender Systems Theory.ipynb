{
 "cells": [
  {
   "cell_type": "markdown",
   "metadata": {},
   "source": [
    "The two most commom types of recommender system are <strong>Content-Based</strong> and <strong>Collaborative Filtering (CF)</strong>.\n",
    "* Collaborative filtering produces recommendations based on the knowledge of users'attitude to items, that is it uses the \"wisdom of the crowd\"to recommend items.\n",
    "* Content-Based recommender systems focus on the attributes of the items and give you recommendations based on the similarity between them.\n",
    "* In general, CF is more commonly used because it usually gives better results and is relatively easy to understand.\n",
    "* The algorithm has the ability to do feature learning on its own"
   ]
  },
  {
   "cell_type": "code",
   "execution_count": null,
   "metadata": {},
   "outputs": [],
   "source": []
  }
 ],
 "metadata": {
  "kernelspec": {
   "display_name": "Python 3",
   "language": "python",
   "name": "python3"
  },
  "language_info": {
   "codemirror_mode": {
    "name": "ipython",
    "version": 3
   },
   "file_extension": ".py",
   "mimetype": "text/x-python",
   "name": "python",
   "nbconvert_exporter": "python",
   "pygments_lexer": "ipython3",
   "version": "3.8.5"
  }
 },
 "nbformat": 4,
 "nbformat_minor": 4
}
